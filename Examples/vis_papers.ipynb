{
 "cells": [
  {
   "cell_type": "markdown",
   "metadata": {},
   "source": [
    "# Narrative Trails\n"
   ]
  },
  {
   "cell_type": "code",
   "execution_count": 1,
   "metadata": {},
   "outputs": [],
   "source": [
    "%load_ext autoreload\n",
    "%autoreload 2"
   ]
  },
  {
   "cell_type": "code",
   "execution_count": 2,
   "metadata": {},
   "outputs": [],
   "source": [
    "import os\n",
    "import sys\n",
    "\n",
    "# To make our relative library imports work\n",
    "current_dir = os.getcwd()\n",
    "parent_dir = os.path.dirname(current_dir)\n",
    "sys.path.append(parent_dir)"
   ]
  },
  {
   "cell_type": "code",
   "execution_count": 3,
   "metadata": {},
   "outputs": [
    {
     "name": "stderr",
     "output_type": "stream",
     "text": [
      "/Users/faustogerman/miniforge3/envs/narrative-trails/lib/python3.9/site-packages/tqdm/auto.py:21: TqdmWarning: IProgress not found. Please update jupyter and ipywidgets. See https://ipywidgets.readthedocs.io/en/stable/user_install.html\n",
      "  from .autonotebook import tqdm as notebook_tqdm\n"
     ]
    },
    {
     "name": "stdout",
     "output_type": "stream",
     "text": [
      "Using device: cpu\n"
     ]
    }
   ],
   "source": [
    "import pandas as pd\n",
    "import networkx as nx\n",
    "\n",
    "from dataclasses import dataclass\n",
    "from time import time\n",
    "\n",
    "# Local Imports\n",
    "from Library.embedding_extraction import extract_embeddings\n",
    "from Library.narrative_landscape import NarrativeLandscape\n",
    "from Library.storyline import Storyline"
   ]
  },
  {
   "cell_type": "code",
   "execution_count": 4,
   "metadata": {},
   "outputs": [],
   "source": [
    "@dataclass\n",
    "class Config:\n",
    "    # The filename for the source data\n",
    "    foldername = \"VisPubData\"\n",
    "    # The column with the contents of the article\n",
    "    data_column = \"Abstract\"\n",
    "    # The \"date\" column. This column will be renamed to \"date\" later.\n",
    "    date_column = \"Year\"\n",
    "    # The column used as title for visualization and summary\n",
    "    summary_column = \"Title\"\n",
    "    # Wether or not to force events to follow a timeline\n",
    "    apply_time_order = True\n",
    "\n",
    "\n",
    "CONFIG = Config()"
   ]
  },
  {
   "cell_type": "code",
   "execution_count": 5,
   "metadata": {},
   "outputs": [
    {
     "name": "stdout",
     "output_type": "stream",
     "text": [
      "<class 'pandas.core.frame.DataFrame'>\n",
      "RangeIndex: 3549 entries, 0 to 3548\n",
      "Data columns (total 18 columns):\n",
      " #   Column                  Non-Null Count  Dtype         \n",
      "---  ------                  --------------  -----         \n",
      " 0   Conference              3549 non-null   object        \n",
      " 1   date                    3549 non-null   datetime64[ns]\n",
      " 2   Title                   3549 non-null   object        \n",
      " 3   DOI                     3549 non-null   object        \n",
      " 4   Link                    3549 non-null   object        \n",
      " 5   FirstPage               3516 non-null   object        \n",
      " 6   LastPage                3509 non-null   object        \n",
      " 7   PaperType               3549 non-null   object        \n",
      " 8   Abstract                3549 non-null   object        \n",
      " 9   AuthorNames-Deduped     3549 non-null   object        \n",
      " 10  AuthorNames             3548 non-null   object        \n",
      " 11  AuthorAffiliation       3544 non-null   object        \n",
      " 12  InternalReferences      2845 non-null   object        \n",
      " 13  AuthorKeywords          2632 non-null   object        \n",
      " 14  AminerCitationCount     3375 non-null   float64       \n",
      " 15  CitationCount_CrossRef  3549 non-null   float64       \n",
      " 16  PubsCited_CrossRef      3549 non-null   float64       \n",
      " 17  Award                   228 non-null    object        \n",
      "dtypes: datetime64[ns](1), float64(3), object(14)\n",
      "memory usage: 499.2+ KB\n"
     ]
    }
   ],
   "source": [
    "data = pd.read_csv(f\"../data/{CONFIG.foldername}/text_data.csv\")\n",
    "\n",
    "# Convert the date to DateTime object (if isn't a date object already)\n",
    "data[CONFIG.date_column] = pd.to_datetime(data[CONFIG.date_column], format=\"%Y\")\n",
    "data.rename(columns={CONFIG.date_column: \"date\"}, inplace=True)\n",
    "\n",
    "# Drop rows with no abstract\n",
    "data = data[~(data[\"Abstract\"].isna())].reset_index(drop=True)\n",
    "\n",
    "data.info()"
   ]
  },
  {
   "cell_type": "markdown",
   "metadata": {},
   "source": [
    "## Construct Narrative Landscape"
   ]
  },
  {
   "cell_type": "code",
   "execution_count": 6,
   "metadata": {},
   "outputs": [
    {
     "name": "stdout",
     "output_type": "stream",
     "text": [
      "File '../data/VisPubData/embed_data-gpt4.pickle' loaded successfully.\n"
     ]
    }
   ],
   "source": [
    "RAW_TEXT = data[\"Title\"] + \";\" + data[CONFIG.data_column]\n",
    "\n",
    "embeddings, _ = extract_embeddings(\n",
    "    text=RAW_TEXT.tolist(),\n",
    "    foldername=f\"../data/{CONFIG.foldername}\",\n",
    "    model_name=\"gpt4\"  # OneOf[mpnet, gpt4]\n",
    ")"
   ]
  },
  {
   "cell_type": "code",
   "execution_count": 7,
   "metadata": {},
   "outputs": [
    {
     "name": "stdout",
     "output_type": "stream",
     "text": [
      "Step 1/4: Constructing Projection Space with UMAP\n",
      "Step 2/4: Discovering topics with HDBSCAN\n",
      "\t>>> Discovered 59 Topics\n",
      "Step 3/4: Computing Mean K-NN Dist\n",
      "Step 4/4: Constructing Coherence Graph\n",
      "\t >>> Computing base coherence\n",
      "\t >>> Computing sparse coherence\n",
      "\t\t>>> Creating Undirected Graph\n",
      "\t\t>>> Finding Maximum Spanning Tree\n",
      "\t\t>>> Getting Min Weight\n",
      "\t\t----- BEFORE MST -----\n",
      "\t\tCritical Coherence: 0.4652723459983509\n",
      "\t\tNum Edges: 6295926\n",
      "\t\tIs Connected: True\n",
      "\t\t----- AFTER MST -----\n",
      "\t\tNum Edges: 4403153\n",
      "\t\tIs Connected: True\n",
      "\t\t----- AFTER Constraints -----\n",
      "\t\tNum Edges: 4403153\n",
      "\t\tIs Connected: True\n",
      "\t >>> Building NetworkX graph\n"
     ]
    }
   ],
   "source": [
    "landscape = NarrativeLandscape(verbose=True)\n",
    "landscape.fit(embeddings.numpy(), dates=data[\"date\"].values)"
   ]
  },
  {
   "cell_type": "markdown",
   "metadata": {},
   "source": [
    "## Narrative Extraction\n"
   ]
  },
  {
   "cell_type": "code",
   "execution_count": 8,
   "metadata": {},
   "outputs": [
    {
     "name": "stdout",
     "output_type": "stream",
     "text": [
      "Execution Time: 2.0768439769744873 seconds\n",
      "-------------\n",
      "Path: [129, 1074, 620, 1280, 615, 5, 317, 439, 55, 75, 109, 66, 258, 172, 29, 247, 2418, 3125, 3352, 3263, 1632, 2051, 423, 714, 2924, 3198, 3454, 3273, 861, 1429, 1291, 581, 1764, 864, 1517, 1891, 1879, 1386, 2008, 2518, 1750, 926, 1014, 887, 1563, 2279, 2368, 1868, 2379, 1992, 345]\n",
      "Bottleneck:  0.8161739176231043\n",
      "Reliability:  0.8256881540367818\n",
      "Length of Path: 51\n",
      "idx    Topic   Date             Title\n",
      "----------------------------------------------------------------\n",
      "129    40      Jan 01, 2021     M2Lens: Visualizing and Explaining Multimodal Models for Sentiment Analysis\n",
      "1074   28      Jan 01, 2014     Multi-Model Semantic Interaction for Text Analytics\n",
      "620    41      Jan 01, 2018     The Effect of Semantic Interaction on Foraging in Text Analysis\n",
      "1280   41      Jan 01, 2012     Semantic Interaction for Sensemaking: Inferring Analytical Reasoning for Model Steering\n",
      "615    41      Jan 01, 2018     Enhancing Web-based Analytics Applications through Provenance\n",
      "5      41      Jan 01, 2022     In Defence of Visual Analytics Systems: Replies to Critics\n",
      "317    41      Jan 01, 2020     CAVA: A Visual Analytics System for Exploratory Columnar Data Augmentation Using Knowledge Graphs\n",
      "439    41      Jan 01, 2019     VASABI: Hierarchical User Profiles for Interactive Visual User Behaviour Analytics\n",
      "55     41      Jan 01, 2022     A Unified Comparison of User Modeling Techniques for Predicting Data Interaction and Detecting Exploration Bias\n",
      "75     41      Jan 01, 2022     Diverse Interaction Recommendation for Public Users Exploring Multi-view Visualization using Deep Learning\n",
      "109    41      Jan 01, 2022     A Design Space for Surfacing Content Recommendations in Visual Analytic Platforms\n",
      "66     41      Jan 01, 2022     MEDLEY: Intent-based Recommendations to Support Dashboard Composition\n",
      "258    42      Jan 01, 2020     QualDash: Adaptable Generation of Visualisation Dashboards for Healthcare Quality Improvement\n",
      "172    42      Jan 01, 2021     Propagating Visual Designs to Numerous Plots and Dashboards\n",
      "29     42      Jan 01, 2022     Multi-View Design Patterns and Responsive Visualization for Genomics Data\n",
      "247    42      Jan 01, 2020     MobileVisFixer: Tailoring Web Visualizations for Mobile Phones Leveraging an Explainable Reinforcement Learning Framework\n",
      "2418   42      Jan 01, 2004     Context-Adaptive Mobile Visualization and Information Management\n",
      "3125   42      Jan 01, 1996     Visualization over the World Wide Web and its application to environmental data\n",
      "3352   18      Jan 01, 1993     An environment for telecollaborative data exploration\n",
      "3263   39      Jan 01, 1995     Case study: using spatial access methods to support the visualization of environmental data\n",
      "1632   39      Jan 01, 2010     Scalable Multi-variate Analytics of Seismic and Satellite-based Observational Data\n",
      "2051   39      Jan 01, 2007     Sunfall: A Collaborative Visual Analytics System for Astrophysics\n",
      "423    39      Jan 01, 2019     OpenSpace: A System for Astrographics\n",
      "714    47      Jan 01, 2017     Globe Browsing: Contextualized Spatio-Temporal Planetary Surface Visualization\n",
      "2924   47      Jan 01, 1999     Geo-spatial visualization for situational awareness\n",
      "3198   47      Jan 01, 1995     Virtual GIS: a real-time 3D geographic information system\n",
      "3454   47      Jan 01, 1991     Visualization in computational fluid dynamics: a case study\n",
      "3273   45      Jan 01, 1994     VolVis: a diversified volume visualization system\n",
      "861    45      Jan 01, 2016     Vol²velle: Printable Interactive Volume Visualization\n",
      "1429   45      Jan 01, 2011     WYSIWYG (What You See is What You Get) Volume Visualization\n",
      "1291   38      Jan 01, 2012     Interactive Volume Exploration of Petascale Microscopy Data Streams Using a Visualization-Driven Virtual Memory Approach\n",
      "581    38      Jan 01, 2018     Dynamic Volume Lines: Visual Comparison of 3D Volumes through Space-filling Curves\n",
      "1764   38      Jan 01, 2009     Curve-Centric Volume Reformation for Comparative Visualization\n",
      "864    38      Jan 01, 2016     Visualizing Shape Deformations with Variation of Geometric Spectrum\n",
      "1517   38      Jan 01, 2011     An Interactive Local Flattening Operator to Support Digital Investigations on Artwork Surfaces\n",
      "1891   54      Jan 01, 2008     Geodesic Distance-weighted Shape Vector Image Diffusion\n",
      "1879   54      Jan 01, 2008     Surface Extraction from Multi-field Particle Volume Data Using Multi-dimensional Cluster Visualization\n",
      "1386   11      Jan 01, 2012     Surface-Based Structure Analysis and Visualization for Multifield Time-Varying Datasets\n",
      "2008   19      Jan 01, 2007     Texture-based feature tracking for effective time-varying data visualization\n",
      "2518   19      Jan 01, 2003     Chameleon: an interactive texture-based rendering framework for visualizing three-dimensional vector fields\n",
      "1750   19      Jan 01, 2009     Comparing 3D Vector field Visualization Methods: A User Study\n",
      "926    19      Jan 01, 2015     Comparative visual analysis of vector field ensembles\n",
      "1014   19      Jan 01, 2015     A bottom-up scheme for user-defined feature exploration in vector field ensembles\n",
      "887    19      Jan 01, 2015     Streamline Variability Plots for Characterizing the Uncertainty in Vector Field Ensembles\n",
      "1563   19      Jan 01, 2010     An Information-Theoretic Framework for Flow Visualization\n",
      "2279   19      Jan 01, 2005     Particle and texture based spatiotemporal visualization of time-dependent vector fields\n",
      "2368   11      Jan 01, 2004     Display of vector fields using a reaction-diffusion model\n",
      "1868   11      Jan 01, 2008     Interactive Comparison of Scalar fields Based on Largest Contours with Applications to Flow Visualization\n",
      "2379   19      Jan 01, 2004     Flow field clustering via algebraic multigrid\n",
      "1992   19      Jan 01, 2007     Moment Invariants for the Analysis of 2D Flow fields\n",
      "345    19      Jan 01, 2020     Objective Observer-Relative Flow Visualization in Curved Spaces for Unsteady 2D Geophysical Flows\n",
      "-------------\n",
      "Reduced Path: [129, 620, 615, 317, 55, 109, 258, 29, 2418, 3352, 1632, 423, 2924, 3454, 861, 1291, 1764, 1517, 1879, 2008, 1750, 1014, 1563, 2368, 2379, 345]\n",
      "Reduced Bottleneck:  0.7597771665493652\n",
      "Reduced Reliability:  0.79240031917609\n",
      "Reduced Length of Path: 26 \n",
      "\n",
      "idx    Topic   Date             Title\n",
      "----------------------------------------------------------------\n",
      "129    40      Jan 01, 2021     M2Lens: Visualizing and Explaining Multimodal Models for Sentiment Analysis\n",
      "620    41      Jan 01, 2018     The Effect of Semantic Interaction on Foraging in Text Analysis\n",
      "615    41      Jan 01, 2018     Enhancing Web-based Analytics Applications through Provenance\n",
      "317    41      Jan 01, 2020     CAVA: A Visual Analytics System for Exploratory Columnar Data Augmentation Using Knowledge Graphs\n",
      "55     41      Jan 01, 2022     A Unified Comparison of User Modeling Techniques for Predicting Data Interaction and Detecting Exploration Bias\n",
      "109    41      Jan 01, 2022     A Design Space for Surfacing Content Recommendations in Visual Analytic Platforms\n",
      "258    42      Jan 01, 2020     QualDash: Adaptable Generation of Visualisation Dashboards for Healthcare Quality Improvement\n",
      "29     42      Jan 01, 2022     Multi-View Design Patterns and Responsive Visualization for Genomics Data\n",
      "2418   42      Jan 01, 2004     Context-Adaptive Mobile Visualization and Information Management\n",
      "3352   18      Jan 01, 1993     An environment for telecollaborative data exploration\n",
      "1632   39      Jan 01, 2010     Scalable Multi-variate Analytics of Seismic and Satellite-based Observational Data\n",
      "423    39      Jan 01, 2019     OpenSpace: A System for Astrographics\n",
      "2924   47      Jan 01, 1999     Geo-spatial visualization for situational awareness\n",
      "3454   47      Jan 01, 1991     Visualization in computational fluid dynamics: a case study\n",
      "861    45      Jan 01, 2016     Vol²velle: Printable Interactive Volume Visualization\n",
      "1291   38      Jan 01, 2012     Interactive Volume Exploration of Petascale Microscopy Data Streams Using a Visualization-Driven Virtual Memory Approach\n",
      "1764   38      Jan 01, 2009     Curve-Centric Volume Reformation for Comparative Visualization\n",
      "1517   38      Jan 01, 2011     An Interactive Local Flattening Operator to Support Digital Investigations on Artwork Surfaces\n",
      "1879   54      Jan 01, 2008     Surface Extraction from Multi-field Particle Volume Data Using Multi-dimensional Cluster Visualization\n",
      "2008   19      Jan 01, 2007     Texture-based feature tracking for effective time-varying data visualization\n",
      "1750   19      Jan 01, 2009     Comparing 3D Vector field Visualization Methods: A User Study\n",
      "1014   19      Jan 01, 2015     A bottom-up scheme for user-defined feature exploration in vector field ensembles\n",
      "1563   19      Jan 01, 2010     An Information-Theoretic Framework for Flow Visualization\n",
      "2368   11      Jan 01, 2004     Display of vector fields using a reaction-diffusion model\n",
      "2379   19      Jan 01, 2004     Flow field clustering via algebraic multigrid\n",
      "345    19      Jan 01, 2020     Objective Observer-Relative Flow Visualization in Curved Spaces for Unsteady 2D Geophysical Flows\n"
     ]
    }
   ],
   "source": [
    "# SRC_NODE = 185\n",
    "# TGT_NODE = 445\n",
    "\n",
    "# SRC_NODE = 15\n",
    "# TGT_NODE = 460\n",
    "\n",
    "# SRC_NODE = 85\n",
    "# TGT_NODE = 114\n",
    "\n",
    "# SRC_NODE = 101\n",
    "# TGT_NODE = 109\n",
    "\n",
    "# Example of ver long original storyline, with a lot of redundancy\n",
    "# The reduced storyline is much more concise\n",
    "SRC_NODE = 129\n",
    "TGT_NODE = 345\n",
    "\n",
    "paths_nodes = []\n",
    "n_paths = 1\n",
    "\n",
    "all_narratives = []\n",
    "all_trail_coherences = []\n",
    "\n",
    "for i in range(n_paths):\n",
    "    start_time = time()\n",
    "    narrative_path, narrative_cost = landscape.extract_narrative(SRC_NODE, TGT_NODE, hidden_nodes=paths_nodes)\n",
    "    end_time = time() - start_time\n",
    "\n",
    "    if narrative_path:\n",
    "        print(f\"Execution Time: {end_time} seconds\")\n",
    "\n",
    "        storyline = Storyline(landscape, narrative_path)\n",
    "\n",
    "        print(\"-\" * 13)\n",
    "        print(\"Path:\", storyline.chain)\n",
    "        print(\"Bottleneck: \", storyline.bottleneck_weight())\n",
    "        print(\"Reliability: \", storyline.reliability())\n",
    "        print(\"Length of Path:\", len(storyline.chain))\n",
    "\n",
    "        Storyline.print_narrative_path(\n",
    "            data,\n",
    "            landscape.cluster_labels,\n",
    "            storyline.chain,\n",
    "            CONFIG\n",
    "        )\n",
    "\n",
    "        paths_nodes.extend(storyline.chain[1:-1])\n",
    "\n",
    "        storyline.reduce_redundancy(inplace=True, delta=1)\n",
    "\n",
    "        print(\"-\" * 13)\n",
    "        print(\"Reduced Path:\", storyline.chain)\n",
    "        print(\"Reduced Bottleneck: \", storyline.bottleneck_weight())\n",
    "        print(\"Reduced Reliability: \", storyline.reliability())\n",
    "        print(\"Reduced Length of Path:\", len(storyline.chain), \"\\n\")\n",
    "        \n",
    "        Storyline.print_narrative_path(\n",
    "            data,\n",
    "            landscape.cluster_labels,\n",
    "            storyline.chain,\n",
    "            CONFIG\n",
    "        )\n",
    "\n",
    "        all_narratives.append(storyline.chain)\n",
    "        all_trail_coherences.append(storyline.path_base_coherence())\n",
    "\n",
    "        if i != n_paths - 1:\n",
    "            print(\"\\n\\n\")\n",
    "    else:\n",
    "        print(\"No Path Found\")"
   ]
  },
  {
   "cell_type": "code",
   "execution_count": null,
   "metadata": {},
   "outputs": [],
   "source": []
  }
 ],
 "metadata": {
  "kernelspec": {
   "display_name": "narrative-trails",
   "language": "python",
   "name": "python3"
  },
  "language_info": {
   "codemirror_mode": {
    "name": "ipython",
    "version": 3
   },
   "file_extension": ".py",
   "mimetype": "text/x-python",
   "name": "python",
   "nbconvert_exporter": "python",
   "pygments_lexer": "ipython3",
   "version": "3.9.18"
  }
 },
 "nbformat": 4,
 "nbformat_minor": 2
}
